{
 "cells": [
  {
   "cell_type": "markdown",
   "metadata": {},
   "source": [
    "# Utilisation de python en physique-chimie\n"
   ]
  },
  {
   "cell_type": "markdown",
   "metadata": {},
   "source": [
    "On donne ci-dessous le code python permettant de calculer l'état final de la réaction de combustion du méthane (CH<sub>4</sub>) dans le dioxygène (O<sub>2</sub>). Les quantité initiales sont de 3 moles de CH<sub>4</sub> et 20 moles de O<sub>2</sub>."
   ]
  },
  {
   "cell_type": "code",
   "execution_count": 7,
   "metadata": {},
   "outputs": [
    {
     "name": "stdout",
     "output_type": "stream",
     "text": [
      "====== Etat Initial ======\n",
      "CH4 : 3.00\n",
      "O2 : 20.00\n",
      "CO2 : 0.00\n",
      "H2O : 0.00\n",
      "\n",
      "======  Etat Final  ======\n",
      "CH4 : -0.00\n",
      "O2 : 14.00\n",
      "CO2 : 3.00\n",
      "H2O : 6.00\n",
      "\n",
      "Avancement final : xf = 3.00 mol\n"
     ]
    }
   ],
   "source": [
    "especes=[\"CH4\",\"O2\",\"CO2\",\"H2O\"]\n",
    "coefficients=[-1, -2, 1, 2]\n",
    "qi = [3., 20., 0., 0.] #quantites initiales en moles\n",
    "qf = qi[:]\n",
    "dksi = 0.0001 #pas\n",
    "\n",
    "print(\"====== Etat Initial ======\")\n",
    "for i in range(4):\n",
    "    print(especes[i],\": {:.2f}\".format(qi[i])) #on affiche le résultat avec 3 chiffres après la virgule\n",
    "print(\"\")\n",
    "\n",
    "\n",
    "x = 0 #avancement initial\n",
    "while qf[0]>0 and qf[1]>0: #tant qu'il y a des réactifs\n",
    "    x = x + dksi\n",
    "    qf[0] = qi[0] + coefficients[0]*x\n",
    "    qf[1] = qi[1] + coefficients[1]*x\n",
    "    qf[2] = qi[2] + coefficients[2]*x\n",
    "    qf[3] = qi[3] + coefficients[3]*x\n",
    "    \n",
    "print(\"======  Etat Final  ======\")\n",
    "for i in range(4):\n",
    "    print(especes[i],\": {:.2f}\".format(qf[i])) #on affiche le résultat avec 3 chiffres après la virgule\n",
    "print(\"\")\n",
    "print(\"Avancement final : xf = {:.2f} mol\".format(x))"
   ]
  },
  {
   "cell_type": "markdown",
   "metadata": {},
   "source": [
    "<b>1°)</b> Ecrire ci-dessous un programme python sur le même modèle permettant de simuler la combustion de 5 moles de $CH_4$ dans 6 moles de $O_2$."
   ]
  },
  {
   "cell_type": "code",
   "execution_count": null,
   "metadata": {},
   "outputs": [],
   "source": [
    "\n",
    "\n"
   ]
  },
  {
   "cell_type": "markdown",
   "metadata": {},
   "source": [
    "<b>2°)</b> Si l'on souhaite réaliser la combustion de 2 moles de $CH_4$, quelle est la quantité de matière de $O_2$ nécessaire pour que les réactifs soient en proportion stoechiométrique  (vous pouvez expérimenter en modifiant le premier programme et en l'exécutant) ?"
   ]
  },
  {
   "cell_type": "raw",
   "metadata": {},
   "source": []
  },
  {
   "cell_type": "markdown",
   "metadata": {},
   "source": [
    "<b>3°)</b> On s'intéresse maintenant à la réaction entre l'ion hydrogénocarbonate $HCO_3^-$ et l'ion $H_3 O^+$. Cette réaction donne de l'eau $H_2 O$ et du $CO_2$. Modifiez puis exécutez la ligne ci-dessous pour équilibrer cette équation."
   ]
  },
  {
   "cell_type": "markdown",
   "metadata": {},
   "source": [
    "_ $HCO_3^-$ + _ $H_3 O^+$ => _ $CO_2$ + _ $H_2 O$"
   ]
  },
  {
   "cell_type": "markdown",
   "metadata": {},
   "source": [
    "<b>4°)</b> Ecrire alors ci-dessous un programme python sur le même modèle que le précédent permettant de simuler la réaction de 4 moles de $HCO_3^-$ et 6 moles de $H_3 O^+$."
   ]
  },
  {
   "cell_type": "code",
   "execution_count": null,
   "metadata": {},
   "outputs": [],
   "source": [
    "\n",
    "\n"
   ]
  }
 ],
 "metadata": {
  "kernelspec": {
   "display_name": "Python 3",
   "language": "python",
   "name": "python3"
  },
  "language_info": {
   "codemirror_mode": {
    "name": "ipython",
    "version": 3
   },
   "file_extension": ".py",
   "mimetype": "text/x-python",
   "name": "python",
   "nbconvert_exporter": "python",
   "pygments_lexer": "ipython3",
   "version": "3.7.3rc1"
  }
 },
 "nbformat": 4,
 "nbformat_minor": 2
}
